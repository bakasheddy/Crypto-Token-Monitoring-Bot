{
 "cells": [
  {
   "cell_type": "code",
   "execution_count": 2,
   "metadata": {},
   "outputs": [],
   "source": [
    "import pandas as pd\n",
    "import numpy as np\n",
    "import matplotlib.pyplot as plt\n",
    "import yfinance as yf\n",
    "import seaborn as sns\n"
   ]
  },
  {
   "cell_type": "code",
   "execution_count": 3,
   "metadata": {},
   "outputs": [
    {
     "name": "stderr",
     "output_type": "stream",
     "text": [
      "[*********************100%***********************]  1 of 1 completed"
     ]
    },
    {
     "name": "stdout",
     "output_type": "stream",
     "text": [
      "Price          Close      High       Low      Open    Volume\n",
      "Ticker      DOGE-USD  DOGE-USD  DOGE-USD  DOGE-USD  DOGE-USD\n",
      "Date                                                        \n",
      "2020-01-01  0.002033  0.002052  0.002021  0.002028  51180941\n",
      "2020-01-02  0.002009  0.002110  0.001983  0.002034  65071106\n",
      "2020-01-03  0.002145  0.002177  0.001991  0.002008  62619988\n",
      "2020-01-04  0.002241  0.002490  0.002050  0.002144  94227582\n",
      "2020-01-05  0.002419  0.002491  0.002117  0.002240  52631740\n",
      "Data saved to DOGE-USD.csv\n"
     ]
    },
    {
     "name": "stderr",
     "output_type": "stream",
     "text": [
      "\n"
     ]
    }
   ],
   "source": [
    "# Define the cryptocurrency ticker\n",
    "crypto_ticker = \"DOGE-USD\"  \n",
    "start_date = \"2020-01-01\"  \n",
    "end_date = \"2025-01-01\"    \n",
    "\n",
    "# Fetch historical data\n",
    "data = yf.download(crypto_ticker, start=start_date, end=end_date, interval=\"1d\")\n",
    "\n",
    "print(data.head())\n",
    "\n",
    "data.to_csv(\"DOGE-USD.csv\")\n",
    "print(\"Data saved to DOGE-USD.csv\")\n"
   ]
  },
  {
   "cell_type": "code",
   "execution_count": 4,
   "metadata": {},
   "outputs": [],
   "source": [
    "\n",
    "df = pd.read_csv('DOGE-USD.csv')\n",
    "# df.drop(index=[0,1], inplace=True)\n",
    "df = df.iloc[2:]\n"
   ]
  },
  {
   "cell_type": "code",
   "execution_count": 5,
   "metadata": {},
   "outputs": [
    {
     "data": {
      "text/html": [
       "<div>\n",
       "<style scoped>\n",
       "    .dataframe tbody tr th:only-of-type {\n",
       "        vertical-align: middle;\n",
       "    }\n",
       "\n",
       "    .dataframe tbody tr th {\n",
       "        vertical-align: top;\n",
       "    }\n",
       "\n",
       "    .dataframe thead th {\n",
       "        text-align: right;\n",
       "    }\n",
       "</style>\n",
       "<table border=\"1\" class=\"dataframe\">\n",
       "  <thead>\n",
       "    <tr style=\"text-align: right;\">\n",
       "      <th></th>\n",
       "      <th>Price</th>\n",
       "      <th>Close</th>\n",
       "      <th>High</th>\n",
       "      <th>Low</th>\n",
       "      <th>Open</th>\n",
       "      <th>Volume</th>\n",
       "    </tr>\n",
       "  </thead>\n",
       "  <tbody>\n",
       "    <tr>\n",
       "      <th>2</th>\n",
       "      <td>2020-01-01</td>\n",
       "      <td>0.00203300011344254</td>\n",
       "      <td>0.0020520000252872705</td>\n",
       "      <td>0.0020210000220686197</td>\n",
       "      <td>0.0020280000753700733</td>\n",
       "      <td>51180941</td>\n",
       "    </tr>\n",
       "    <tr>\n",
       "      <th>3</th>\n",
       "      <td>2020-01-02</td>\n",
       "      <td>0.0020089999306946993</td>\n",
       "      <td>0.0021100000012665987</td>\n",
       "      <td>0.0019829999655485153</td>\n",
       "      <td>0.00203399988822639</td>\n",
       "      <td>65071106</td>\n",
       "    </tr>\n",
       "    <tr>\n",
       "      <th>4</th>\n",
       "      <td>2020-01-03</td>\n",
       "      <td>0.002145000034943223</td>\n",
       "      <td>0.002177000045776367</td>\n",
       "      <td>0.0019910000264644623</td>\n",
       "      <td>0.002007999923080206</td>\n",
       "      <td>62619988</td>\n",
       "    </tr>\n",
       "    <tr>\n",
       "      <th>5</th>\n",
       "      <td>2020-01-04</td>\n",
       "      <td>0.0022410000674426556</td>\n",
       "      <td>0.0024900001008063555</td>\n",
       "      <td>0.002050000010058284</td>\n",
       "      <td>0.0021440000273287296</td>\n",
       "      <td>94227582</td>\n",
       "    </tr>\n",
       "    <tr>\n",
       "      <th>6</th>\n",
       "      <td>2020-01-05</td>\n",
       "      <td>0.0024190000258386135</td>\n",
       "      <td>0.002491000108420849</td>\n",
       "      <td>0.0021170000545680523</td>\n",
       "      <td>0.002240000059828162</td>\n",
       "      <td>52631740</td>\n",
       "    </tr>\n",
       "  </tbody>\n",
       "</table>\n",
       "</div>"
      ],
      "text/plain": [
       "        Price                  Close                   High  \\\n",
       "2  2020-01-01    0.00203300011344254  0.0020520000252872705   \n",
       "3  2020-01-02  0.0020089999306946993  0.0021100000012665987   \n",
       "4  2020-01-03   0.002145000034943223   0.002177000045776367   \n",
       "5  2020-01-04  0.0022410000674426556  0.0024900001008063555   \n",
       "6  2020-01-05  0.0024190000258386135   0.002491000108420849   \n",
       "\n",
       "                     Low                   Open    Volume  \n",
       "2  0.0020210000220686197  0.0020280000753700733  51180941  \n",
       "3  0.0019829999655485153    0.00203399988822639  65071106  \n",
       "4  0.0019910000264644623   0.002007999923080206  62619988  \n",
       "5   0.002050000010058284  0.0021440000273287296  94227582  \n",
       "6  0.0021170000545680523   0.002240000059828162  52631740  "
      ]
     },
     "execution_count": 5,
     "metadata": {},
     "output_type": "execute_result"
    }
   ],
   "source": [
    "df.head()"
   ]
  },
  {
   "cell_type": "code",
   "execution_count": null,
   "metadata": {},
   "outputs": [],
   "source": []
  }
 ],
 "metadata": {
  "kernelspec": {
   "display_name": "base",
   "language": "python",
   "name": "python3"
  },
  "language_info": {
   "codemirror_mode": {
    "name": "ipython",
    "version": 3
   },
   "file_extension": ".py",
   "mimetype": "text/x-python",
   "name": "python",
   "nbconvert_exporter": "python",
   "pygments_lexer": "ipython3",
   "version": "3.9.13"
  }
 },
 "nbformat": 4,
 "nbformat_minor": 2
}
