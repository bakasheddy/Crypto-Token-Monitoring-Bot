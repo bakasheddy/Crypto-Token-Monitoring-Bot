{
 "cells": [
  {
   "cell_type": "code",
   "execution_count": 2,
   "metadata": {},
   "outputs": [],
   "source": [
    "import yfinance as yf\n",
    "import numpy as np\n",
    "import pandas as pd\n",
    "import matplotlib.pyplot as plt\n",
    "import seaborn as sns\n"
   ]
  },
  {
   "cell_type": "code",
   "execution_count": 3,
   "metadata": {},
   "outputs": [
    {
     "name": "stderr",
     "output_type": "stream",
     "text": [
      "[*********************100%***********************]  1 of 1 completed\n"
     ]
    },
    {
     "name": "stdout",
     "output_type": "stream",
     "text": [
      "Price            Close        High         Low        Open       Volume\n",
      "Ticker         ETH-USD     ETH-USD     ETH-USD     ETH-USD      ETH-USD\n",
      "Date                                                                   \n",
      "2020-01-01  130.802002  132.835358  129.198288  129.630661   7935230330\n",
      "2020-01-02  127.410179  130.820038  126.954910  130.820038   8032709256\n",
      "2020-01-03  134.171707  134.554016  126.490021  127.411263  10476845358\n",
      "2020-01-04  135.069366  136.052719  133.040558  134.168518   7430904515\n",
      "2020-01-05  136.276779  139.410202  135.045624  135.072098   7526675353\n",
      "Data saved to crypto_data.csv\n"
     ]
    }
   ],
   "source": [
    "# Define the cryptocurrency ticker\n",
    "crypto_ticker = \"ETH-USD\"  \n",
    "start_date = \"2020-01-01\"  \n",
    "end_date = \"2025-01-01\"    \n",
    "\n",
    "# Fetch historical data\n",
    "data = yf.download(crypto_ticker, start=start_date, end=end_date, interval=\"1d\")\n",
    "\n",
    "print(data.head())\n",
    "\n",
    "data.to_csv(\"crypto_data.csv\")\n",
    "print(\"Data saved to crypto_data.csv\")"
   ]
  },
  {
   "cell_type": "code",
   "execution_count": 5,
   "metadata": {},
   "outputs": [],
   "source": [
    "\n",
    "df = pd.read_csv('ETH-USD.csv')\n",
    "# df.drop(index=[0,1], inplace=True)\n",
    "df = df.iloc[2:]\n"
   ]
  },
  {
   "cell_type": "code",
   "execution_count": 6,
   "metadata": {},
   "outputs": [
    {
     "data": {
      "text/html": [
       "<div>\n",
       "<style scoped>\n",
       "    .dataframe tbody tr th:only-of-type {\n",
       "        vertical-align: middle;\n",
       "    }\n",
       "\n",
       "    .dataframe tbody tr th {\n",
       "        vertical-align: top;\n",
       "    }\n",
       "\n",
       "    .dataframe thead th {\n",
       "        text-align: right;\n",
       "    }\n",
       "</style>\n",
       "<table border=\"1\" class=\"dataframe\">\n",
       "  <thead>\n",
       "    <tr style=\"text-align: right;\">\n",
       "      <th></th>\n",
       "      <th>Price</th>\n",
       "      <th>Close</th>\n",
       "      <th>High</th>\n",
       "      <th>Low</th>\n",
       "      <th>Open</th>\n",
       "      <th>Volume</th>\n",
       "    </tr>\n",
       "  </thead>\n",
       "  <tbody>\n",
       "    <tr>\n",
       "      <th>2</th>\n",
       "      <td>2020-01-01</td>\n",
       "      <td>130.802001953125</td>\n",
       "      <td>132.83535766601562</td>\n",
       "      <td>129.1982879638672</td>\n",
       "      <td>129.6306610107422</td>\n",
       "      <td>7935230330</td>\n",
       "    </tr>\n",
       "    <tr>\n",
       "      <th>3</th>\n",
       "      <td>2020-01-02</td>\n",
       "      <td>127.4101791381836</td>\n",
       "      <td>130.82003784179688</td>\n",
       "      <td>126.95491027832031</td>\n",
       "      <td>130.82003784179688</td>\n",
       "      <td>8032709256</td>\n",
       "    </tr>\n",
       "    <tr>\n",
       "      <th>4</th>\n",
       "      <td>2020-01-03</td>\n",
       "      <td>134.1717071533203</td>\n",
       "      <td>134.55401611328125</td>\n",
       "      <td>126.49002075195312</td>\n",
       "      <td>127.41126251220703</td>\n",
       "      <td>10476845358</td>\n",
       "    </tr>\n",
       "    <tr>\n",
       "      <th>5</th>\n",
       "      <td>2020-01-04</td>\n",
       "      <td>135.06936645507812</td>\n",
       "      <td>136.05271911621094</td>\n",
       "      <td>133.04055786132812</td>\n",
       "      <td>134.16851806640625</td>\n",
       "      <td>7430904515</td>\n",
       "    </tr>\n",
       "    <tr>\n",
       "      <th>6</th>\n",
       "      <td>2020-01-05</td>\n",
       "      <td>136.2767791748047</td>\n",
       "      <td>139.4102020263672</td>\n",
       "      <td>135.04562377929688</td>\n",
       "      <td>135.0720977783203</td>\n",
       "      <td>7526675353</td>\n",
       "    </tr>\n",
       "  </tbody>\n",
       "</table>\n",
       "</div>"
      ],
      "text/plain": [
       "        Price               Close                High                 Low  \\\n",
       "2  2020-01-01    130.802001953125  132.83535766601562   129.1982879638672   \n",
       "3  2020-01-02   127.4101791381836  130.82003784179688  126.95491027832031   \n",
       "4  2020-01-03   134.1717071533203  134.55401611328125  126.49002075195312   \n",
       "5  2020-01-04  135.06936645507812  136.05271911621094  133.04055786132812   \n",
       "6  2020-01-05   136.2767791748047   139.4102020263672  135.04562377929688   \n",
       "\n",
       "                 Open       Volume  \n",
       "2   129.6306610107422   7935230330  \n",
       "3  130.82003784179688   8032709256  \n",
       "4  127.41126251220703  10476845358  \n",
       "5  134.16851806640625   7430904515  \n",
       "6   135.0720977783203   7526675353  "
      ]
     },
     "execution_count": 6,
     "metadata": {},
     "output_type": "execute_result"
    }
   ],
   "source": [
    "df.head()"
   ]
  },
  {
   "cell_type": "code",
   "execution_count": 7,
   "metadata": {},
   "outputs": [],
   "source": [
    "df.rename(columns={'Price': 'Date'}, inplace=True)\n",
    "df['Date'] = pd.to_datetime(df['Date'], errors='coerce')\n",
    "df.set_index('Date', inplace=True)"
   ]
  },
  {
   "cell_type": "code",
   "execution_count": 8,
   "metadata": {},
   "outputs": [
    {
     "data": {
      "text/html": [
       "<div>\n",
       "<style scoped>\n",
       "    .dataframe tbody tr th:only-of-type {\n",
       "        vertical-align: middle;\n",
       "    }\n",
       "\n",
       "    .dataframe tbody tr th {\n",
       "        vertical-align: top;\n",
       "    }\n",
       "\n",
       "    .dataframe thead th {\n",
       "        text-align: right;\n",
       "    }\n",
       "</style>\n",
       "<table border=\"1\" class=\"dataframe\">\n",
       "  <thead>\n",
       "    <tr style=\"text-align: right;\">\n",
       "      <th></th>\n",
       "      <th>Close</th>\n",
       "      <th>High</th>\n",
       "      <th>Low</th>\n",
       "      <th>Open</th>\n",
       "      <th>Volume</th>\n",
       "    </tr>\n",
       "    <tr>\n",
       "      <th>Date</th>\n",
       "      <th></th>\n",
       "      <th></th>\n",
       "      <th></th>\n",
       "      <th></th>\n",
       "      <th></th>\n",
       "    </tr>\n",
       "  </thead>\n",
       "  <tbody>\n",
       "    <tr>\n",
       "      <th>2020-01-01</th>\n",
       "      <td>130.802001953125</td>\n",
       "      <td>132.83535766601562</td>\n",
       "      <td>129.1982879638672</td>\n",
       "      <td>129.6306610107422</td>\n",
       "      <td>7935230330</td>\n",
       "    </tr>\n",
       "    <tr>\n",
       "      <th>2020-01-02</th>\n",
       "      <td>127.4101791381836</td>\n",
       "      <td>130.82003784179688</td>\n",
       "      <td>126.95491027832031</td>\n",
       "      <td>130.82003784179688</td>\n",
       "      <td>8032709256</td>\n",
       "    </tr>\n",
       "    <tr>\n",
       "      <th>2020-01-03</th>\n",
       "      <td>134.1717071533203</td>\n",
       "      <td>134.55401611328125</td>\n",
       "      <td>126.49002075195312</td>\n",
       "      <td>127.41126251220703</td>\n",
       "      <td>10476845358</td>\n",
       "    </tr>\n",
       "    <tr>\n",
       "      <th>2020-01-04</th>\n",
       "      <td>135.06936645507812</td>\n",
       "      <td>136.05271911621094</td>\n",
       "      <td>133.04055786132812</td>\n",
       "      <td>134.16851806640625</td>\n",
       "      <td>7430904515</td>\n",
       "    </tr>\n",
       "    <tr>\n",
       "      <th>2020-01-05</th>\n",
       "      <td>136.2767791748047</td>\n",
       "      <td>139.4102020263672</td>\n",
       "      <td>135.04562377929688</td>\n",
       "      <td>135.0720977783203</td>\n",
       "      <td>7526675353</td>\n",
       "    </tr>\n",
       "  </tbody>\n",
       "</table>\n",
       "</div>"
      ],
      "text/plain": [
       "                         Close                High                 Low  \\\n",
       "Date                                                                     \n",
       "2020-01-01    130.802001953125  132.83535766601562   129.1982879638672   \n",
       "2020-01-02   127.4101791381836  130.82003784179688  126.95491027832031   \n",
       "2020-01-03   134.1717071533203  134.55401611328125  126.49002075195312   \n",
       "2020-01-04  135.06936645507812  136.05271911621094  133.04055786132812   \n",
       "2020-01-05   136.2767791748047   139.4102020263672  135.04562377929688   \n",
       "\n",
       "                          Open       Volume  \n",
       "Date                                         \n",
       "2020-01-01   129.6306610107422   7935230330  \n",
       "2020-01-02  130.82003784179688   8032709256  \n",
       "2020-01-03  127.41126251220703  10476845358  \n",
       "2020-01-04  134.16851806640625   7430904515  \n",
       "2020-01-05   135.0720977783203   7526675353  "
      ]
     },
     "execution_count": 8,
     "metadata": {},
     "output_type": "execute_result"
    }
   ],
   "source": [
    "df.head()"
   ]
  },
  {
   "cell_type": "code",
   "execution_count": 9,
   "metadata": {},
   "outputs": [],
   "source": [
    "df[['Close','Open','Low','High','Volume']] = df[['Close','Open','Low','High','Volume']].astype('float')"
   ]
  },
  {
   "cell_type": "code",
   "execution_count": 11,
   "metadata": {},
   "outputs": [
    {
     "data": {
      "image/png": "[encoded data removed]",
      "text/plain": [
       "<Figure size 1000x600 with 1 Axes>"
      ]
     },
     "metadata": {},
     "output_type": "display_data"
    }
   ],
   "source": [
    "df['Daily Return'] = df['Close'].pct_change() #percentage change \n",
    "\n",
    "#analysing daily returns\n",
    "plt.figure(figsize=(10, 6))\n",
    "sns.histplot(df['Daily Return'].dropna(), kde=True, bins=50, color='blue')\n",
    "plt.title('Distribution of Daily Returns', fontsize=16)\n",
    "plt.xlabel('Daily Return', fontsize=14)\n",
    "plt.ylabel('Frequency', fontsize=14)\n",
    "plt.show()"
   ]
  },
  {
   "cell_type": "code",
   "execution_count": null,
   "metadata": {},
   "outputs": [],
   "source": []
  }
 ],
 "metadata": {
  "kernelspec": {
   "display_name": "base",
   "language": "python",
   "name": "python3"
  },
  "language_info": {
   "codemirror_mode": {
    "name": "ipython",
    "version": 3
   },
   "file_extension": ".py",
   "mimetype": "text/x-python",
   "name": "python",
   "nbconvert_exporter": "python",
   "pygments_lexer": "ipython3",
   "version": "3.9.13"
  }
 },
 "nbformat": 4,
 "nbformat_minor": 2
}
