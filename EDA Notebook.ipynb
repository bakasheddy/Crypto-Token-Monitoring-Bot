{
 "cells": [
  {
   "cell_type": "code",
   "execution_count": 10,
   "id": "677e9e9b",
   "metadata": {
    "scrolled": true
   },
   "outputs": [
    {
     "name": "stdout",
     "output_type": "stream",
     "text": [
      "Collecting yfinance\n",
      "  Using cached yfinance-0.2.51-py2.py3-none-any.whl (104 kB)\n",
      "Collecting frozendict>=2.3.4\n",
      "  Downloading frozendict-2.4.6-cp39-cp39-win_amd64.whl (37 kB)\n",
      "Requirement already satisfied: pandas>=1.3.0 in c:\\users\\shedrack\\anaconda3\\lib\\site-packages (from yfinance) (1.4.4)\n",
      "Collecting requests>=2.31\n",
      "  Using cached requests-2.32.3-py3-none-any.whl (64 kB)\n",
      "Collecting html5lib>=1.1\n",
      "  Using cached html5lib-1.1-py2.py3-none-any.whl (112 kB)\n",
      "Collecting multitasking>=0.0.7\n",
      "  Downloading multitasking-0.0.11-py3-none-any.whl (8.5 kB)\n",
      "Requirement already satisfied: numpy>=1.16.5 in c:\\users\\shedrack\\anaconda3\\lib\\site-packages (from yfinance) (1.21.5)\n",
      "Requirement already satisfied: lxml>=4.9.1 in c:\\users\\shedrack\\anaconda3\\lib\\site-packages (from yfinance) (4.9.1)\n",
      "Collecting peewee>=3.16.2\n",
      "  Downloading peewee-3.17.8.tar.gz (948 kB)\n",
      "     -------------------------------------- 948.2/948.2 kB 9.7 kB/s eta 0:00:00\n",
      "  Installing build dependencies: started\n",
      "  Installing build dependencies: still running...\n",
      "  Installing build dependencies: finished with status 'done'\n",
      "  Getting requirements to build wheel: started\n",
      "  Getting requirements to build wheel: finished with status 'done'\n",
      "  Preparing metadata (pyproject.toml): started\n",
      "  Preparing metadata (pyproject.toml): finished with status 'done'\n",
      "Requirement already satisfied: platformdirs>=2.0.0 in c:\\users\\shedrack\\anaconda3\\lib\\site-packages (from yfinance) (2.5.2)\n",
      "Collecting pytz>=2022.5\n",
      "  Using cached pytz-2024.2-py2.py3-none-any.whl (508 kB)\n",
      "Requirement already satisfied: beautifulsoup4>=4.11.1 in c:\\users\\shedrack\\anaconda3\\lib\\site-packages (from yfinance) (4.11.1)\n",
      "Requirement already satisfied: soupsieve>1.2 in c:\\users\\shedrack\\anaconda3\\lib\\site-packages (from beautifulsoup4>=4.11.1->yfinance) (2.3.1)\n",
      "Requirement already satisfied: webencodings in c:\\users\\shedrack\\anaconda3\\lib\\site-packages (from html5lib>=1.1->yfinance) (0.5.1)\n",
      "Requirement already satisfied: six>=1.9 in c:\\users\\shedrack\\anaconda3\\lib\\site-packages (from html5lib>=1.1->yfinance) (1.16.0)\n",
      "Requirement already satisfied: python-dateutil>=2.8.1 in c:\\users\\shedrack\\anaconda3\\lib\\site-packages (from pandas>=1.3.0->yfinance) (2.8.2)\n",
      "Requirement already satisfied: urllib3<3,>=1.21.1 in c:\\users\\shedrack\\anaconda3\\lib\\site-packages (from requests>=2.31->yfinance) (1.26.11)\n",
      "Requirement already satisfied: charset-normalizer<4,>=2 in c:\\users\\shedrack\\anaconda3\\lib\\site-packages (from requests>=2.31->yfinance) (2.0.4)\n",
      "Requirement already satisfied: idna<4,>=2.5 in c:\\users\\shedrack\\anaconda3\\lib\\site-packages (from requests>=2.31->yfinance) (3.3)\n",
      "Requirement already satisfied: certifi>=2017.4.17 in c:\\users\\shedrack\\anaconda3\\lib\\site-packages (from requests>=2.31->yfinance) (2022.9.14)\n",
      "Building wheels for collected packages: peewee\n",
      "  Building wheel for peewee (pyproject.toml): started\n",
      "  Building wheel for peewee (pyproject.toml): finished with status 'done'\n",
      "  Created wheel for peewee: filename=peewee-3.17.8-py3-none-any.whl size=139012 sha256=f7da9a3a46b0e63e6e6f4fe2c7ad1f872ffe89c0601d3d043e3123fcfa307252\n",
      "  Stored in directory: c:\\users\\shedrack\\appdata\\local\\pip\\cache\\wheels\\06\\b3\\7f\\ed42a7c83ad89f578928833f5789212c694a015b8bd6a407a1\n",
      "Successfully built peewee\n",
      "Installing collected packages: pytz, peewee, multitasking, requests, html5lib, frozendict, yfinance\n",
      "  Attempting uninstall: pytz\n",
      "    Found existing installation: pytz 2022.1\n",
      "    Uninstalling pytz-2022.1:\n",
      "      Successfully uninstalled pytz-2022.1\n",
      "  Attempting uninstall: requests\n",
      "    Found existing installation: requests 2.28.1\n",
      "    Uninstalling requests-2.28.1:\n",
      "      Successfully uninstalled requests-2.28.1\n",
      "Successfully installed frozendict-2.4.6 html5lib-1.1 multitasking-0.0.11 peewee-3.17.8 pytz-2024.2 requests-2.32.3 yfinance-0.2.51\n"
     ]
    },
    {
     "name": "stderr",
     "output_type": "stream",
     "text": [
      "ERROR: pip's dependency resolver does not currently take into account all the packages that are installed. This behaviour is the source of the following dependency conflicts.\n",
      "anaconda-project 0.11.1 requires ruamel-yaml, which is not installed.\n",
      "conda-repo-cli 1.0.20 requires clyent==1.2.1, but you have clyent 1.2.2 which is incompatible.\n",
      "conda-repo-cli 1.0.20 requires nbformat==5.4.0, but you have nbformat 5.5.0 which is incompatible.\n",
      "conda-repo-cli 1.0.20 requires requests==2.28.1, but you have requests 2.32.3 which is incompatible.\n"
     ]
    }
   ],
   "source": [
    "!pip install yfinance"
   ]
  },
  {
   "cell_type": "code",
   "execution_count": 11,
   "id": "f228d2ac",
   "metadata": {},
   "outputs": [
    {
     "name": "stderr",
     "output_type": "stream",
     "text": [
      "\r",
      "[*********************100%***********************]  1 of 1 completed"
     ]
    },
    {
     "name": "stdout",
     "output_type": "stream",
     "text": [
      "Price             Close         High          Low         Open       Volume\n",
      "Ticker          BTC-USD      BTC-USD      BTC-USD      BTC-USD      BTC-USD\n",
      "Date                                                                       \n",
      "2020-01-01  7200.174316  7254.330566  7174.944336  7194.892090  18565664997\n",
      "2020-01-02  6985.470215  7212.155273  6935.270020  7202.551270  20802083465\n",
      "2020-01-03  7344.884277  7413.715332  6914.996094  6984.428711  28111481032\n",
      "2020-01-04  7410.656738  7427.385742  7309.514160  7345.375488  18444271275\n",
      "2020-01-05  7411.317383  7544.497070  7400.535645  7410.451660  19725074095\n",
      "Data saved to crypto_data.csv\n"
     ]
    },
    {
     "name": "stderr",
     "output_type": "stream",
     "text": [
      "\n"
     ]
    }
   ],
   "source": [
    "import yfinance as yf\n",
    "import pandas as pd\n",
    "\n",
    "# Define the cryptocurrency ticker\n",
    "crypto_ticker = \"BTC-USD\"  # Bitcoin in USD\n",
    "start_date = \"2020-01-01\"  # Specify the start date\n",
    "end_date = \"2025-01-01\"    # Specify the end date\n",
    "\n",
    "# Fetch historical data\n",
    "data = yf.download(crypto_ticker, start=start_date, end=end_date, interval=\"1d\")\n",
    "\n",
    "# Display the first few rows\n",
    "print(data.head())\n",
    "\n",
    "# Save to CSV for future use\n",
    "data.to_csv(\"crypto_data.csv\")\n",
    "print(\"Data saved to crypto_data.csv\")\n"
   ]
  },
  {
   "cell_type": "code",
   "execution_count": 12,
   "id": "54a9d98e",
   "metadata": {},
   "outputs": [
    {
     "name": "stderr",
     "output_type": "stream",
     "text": [
      "\r",
      "[*********************100%***********************]  1 of 1 completed"
     ]
    },
    {
     "name": "stdout",
     "output_type": "stream",
     "text": [
      "Price          Close      High       Low      Open    Volume\n",
      "Ticker       SOL-USD   SOL-USD   SOL-USD   SOL-USD   SOL-USD\n",
      "Date                                                        \n",
      "2020-04-10  0.951054  1.313487  0.694187  0.832005  87364276\n",
      "2020-04-11  0.776819  1.049073  0.765020  0.951054  43862444\n",
      "2020-04-12  0.882507  0.956670  0.762426  0.785448  38736897\n",
      "2020-04-13  0.777832  0.891603  0.773976  0.890760  18211285\n",
      "2020-04-14  0.661925  0.796472  0.628169  0.777832  16747614\n",
      "Data saved to crypto_data.csv\n"
     ]
    },
    {
     "name": "stderr",
     "output_type": "stream",
     "text": [
      "\n"
     ]
    }
   ],
   "source": [
    "import yfinance as yf\n",
    "import pandas as pd\n",
    "\n",
    "# Define the cryptocurrency ticker\n",
    "crypto_ticker = \"SOL-USD\"  # Bitcoin in USD\n",
    "start_date = \"2020-01-01\"  # Specify the start date\n",
    "end_date = \"2025-01-01\"    # Specify the end date\n",
    "\n",
    "# Fetch historical data\n",
    "data = yf.download(crypto_ticker, start=start_date, end=end_date, interval=\"1d\")\n",
    "\n",
    "# Display the first few rows\n",
    "print(data.head())\n",
    "\n",
    "# Save to CSV for future use\n",
    "data.to_csv(\"crypto_data.csv\")\n",
    "print(\"Data saved to crypto_data.csv\")\n"
   ]
  },
  {
   "cell_type": "code",
   "execution_count": 55,
   "id": "33c86365",
   "metadata": {},
   "outputs": [],
   "source": [
    "import pandas as pd\n",
    "import numpy as np\n",
    "import matplotlib.pyplot as plt\n",
    "import seaborn as sns\n",
    "from statsmodels.tsa.seasonal import seasonal_decompose"
   ]
  },
  {
   "cell_type": "code",
   "execution_count": 56,
   "id": "e7a5dc49",
   "metadata": {},
   "outputs": [],
   "source": [
    "df = pd.read_csv('BTC-USD.csv')"
   ]
  },
  {
   "cell_type": "code",
   "execution_count": 57,
   "id": "5ac11d65",
   "metadata": {},
   "outputs": [
    {
     "data": {
      "text/html": [
       "<div>\n",
       "<style scoped>\n",
       "    .dataframe tbody tr th:only-of-type {\n",
       "        vertical-align: middle;\n",
       "    }\n",
       "\n",
       "    .dataframe tbody tr th {\n",
       "        vertical-align: top;\n",
       "    }\n",
       "\n",
       "    .dataframe thead th {\n",
       "        text-align: right;\n",
       "    }\n",
       "</style>\n",
       "<table border=\"1\" class=\"dataframe\">\n",
       "  <thead>\n",
       "    <tr style=\"text-align: right;\">\n",
       "      <th></th>\n",
       "      <th>Price</th>\n",
       "      <th>Close</th>\n",
       "      <th>High</th>\n",
       "      <th>Low</th>\n",
       "      <th>Open</th>\n",
       "      <th>Volume</th>\n",
       "    </tr>\n",
       "  </thead>\n",
       "  <tbody>\n",
       "    <tr>\n",
       "      <th>0</th>\n",
       "      <td>Ticker</td>\n",
       "      <td>BTC-USD</td>\n",
       "      <td>BTC-USD</td>\n",
       "      <td>BTC-USD</td>\n",
       "      <td>BTC-USD</td>\n",
       "      <td>BTC-USD</td>\n",
       "    </tr>\n",
       "    <tr>\n",
       "      <th>1</th>\n",
       "      <td>Date</td>\n",
       "      <td>NaN</td>\n",
       "      <td>NaN</td>\n",
       "      <td>NaN</td>\n",
       "      <td>NaN</td>\n",
       "      <td>NaN</td>\n",
       "    </tr>\n",
       "    <tr>\n",
       "      <th>2</th>\n",
       "      <td>2020-01-01</td>\n",
       "      <td>7200.17431640625</td>\n",
       "      <td>7254.33056640625</td>\n",
       "      <td>7174.9443359375</td>\n",
       "      <td>7194.89208984375</td>\n",
       "      <td>18565664997</td>\n",
       "    </tr>\n",
       "    <tr>\n",
       "      <th>3</th>\n",
       "      <td>2020-01-02</td>\n",
       "      <td>6985.47021484375</td>\n",
       "      <td>7212.1552734375</td>\n",
       "      <td>6935.27001953125</td>\n",
       "      <td>7202.55126953125</td>\n",
       "      <td>20802083465</td>\n",
       "    </tr>\n",
       "    <tr>\n",
       "      <th>4</th>\n",
       "      <td>2020-01-03</td>\n",
       "      <td>7344.88427734375</td>\n",
       "      <td>7413.71533203125</td>\n",
       "      <td>6914.99609375</td>\n",
       "      <td>6984.4287109375</td>\n",
       "      <td>28111481032</td>\n",
       "    </tr>\n",
       "  </tbody>\n",
       "</table>\n",
       "</div>"
      ],
      "text/plain": [
       "        Price             Close              High               Low  \\\n",
       "0      Ticker           BTC-USD           BTC-USD           BTC-USD   \n",
       "1        Date               NaN               NaN               NaN   \n",
       "2  2020-01-01  7200.17431640625  7254.33056640625   7174.9443359375   \n",
       "3  2020-01-02  6985.47021484375   7212.1552734375  6935.27001953125   \n",
       "4  2020-01-03  7344.88427734375  7413.71533203125     6914.99609375   \n",
       "\n",
       "               Open       Volume  \n",
       "0           BTC-USD      BTC-USD  \n",
       "1               NaN          NaN  \n",
       "2  7194.89208984375  18565664997  \n",
       "3  7202.55126953125  20802083465  \n",
       "4   6984.4287109375  28111481032  "
      ]
     },
     "execution_count": 57,
     "metadata": {},
     "output_type": "execute_result"
    }
   ],
   "source": [
    "df.head()"
   ]
  },
  {
   "cell_type": "code",
   "execution_count": 58,
   "id": "3ea2511a",
   "metadata": {},
   "outputs": [],
   "source": [
    "df = df.iloc[2:]\n",
    "df = df.rename(columns={'Price': 'Date'})"
   ]
  },
  {
   "cell_type": "code",
   "execution_count": 59,
   "id": "eaeae912",
   "metadata": {},
   "outputs": [],
   "source": [
    "df.set_index(df['Date'], inplace=True)"
   ]
  },
  {
   "cell_type": "code",
   "execution_count": 60,
   "id": "da22bff0",
   "metadata": {},
   "outputs": [
    {
     "data": {
      "text/html": [
       "<div>\n",
       "<style scoped>\n",
       "    .dataframe tbody tr th:only-of-type {\n",
       "        vertical-align: middle;\n",
       "    }\n",
       "\n",
       "    .dataframe tbody tr th {\n",
       "        vertical-align: top;\n",
       "    }\n",
       "\n",
       "    .dataframe thead th {\n",
       "        text-align: right;\n",
       "    }\n",
       "</style>\n",
       "<table border=\"1\" class=\"dataframe\">\n",
       "  <thead>\n",
       "    <tr style=\"text-align: right;\">\n",
       "      <th></th>\n",
       "      <th>Date</th>\n",
       "      <th>Close</th>\n",
       "      <th>High</th>\n",
       "      <th>Low</th>\n",
       "      <th>Open</th>\n",
       "      <th>Volume</th>\n",
       "    </tr>\n",
       "    <tr>\n",
       "      <th>Date</th>\n",
       "      <th></th>\n",
       "      <th></th>\n",
       "      <th></th>\n",
       "      <th></th>\n",
       "      <th></th>\n",
       "      <th></th>\n",
       "    </tr>\n",
       "  </thead>\n",
       "  <tbody>\n",
       "    <tr>\n",
       "      <th>2020-01-01</th>\n",
       "      <td>2020-01-01</td>\n",
       "      <td>7200.17431640625</td>\n",
       "      <td>7254.33056640625</td>\n",
       "      <td>7174.9443359375</td>\n",
       "      <td>7194.89208984375</td>\n",
       "      <td>18565664997</td>\n",
       "    </tr>\n",
       "    <tr>\n",
       "      <th>2020-01-02</th>\n",
       "      <td>2020-01-02</td>\n",
       "      <td>6985.47021484375</td>\n",
       "      <td>7212.1552734375</td>\n",
       "      <td>6935.27001953125</td>\n",
       "      <td>7202.55126953125</td>\n",
       "      <td>20802083465</td>\n",
       "    </tr>\n",
       "    <tr>\n",
       "      <th>2020-01-03</th>\n",
       "      <td>2020-01-03</td>\n",
       "      <td>7344.88427734375</td>\n",
       "      <td>7413.71533203125</td>\n",
       "      <td>6914.99609375</td>\n",
       "      <td>6984.4287109375</td>\n",
       "      <td>28111481032</td>\n",
       "    </tr>\n",
       "    <tr>\n",
       "      <th>2020-01-04</th>\n",
       "      <td>2020-01-04</td>\n",
       "      <td>7410.65673828125</td>\n",
       "      <td>7427.3857421875</td>\n",
       "      <td>7309.51416015625</td>\n",
       "      <td>7345.37548828125</td>\n",
       "      <td>18444271275</td>\n",
       "    </tr>\n",
       "    <tr>\n",
       "      <th>2020-01-05</th>\n",
       "      <td>2020-01-05</td>\n",
       "      <td>7411.3173828125</td>\n",
       "      <td>7544.4970703125</td>\n",
       "      <td>7400.53564453125</td>\n",
       "      <td>7410.45166015625</td>\n",
       "      <td>19725074095</td>\n",
       "    </tr>\n",
       "  </tbody>\n",
       "</table>\n",
       "</div>"
      ],
      "text/plain": [
       "                  Date             Close              High               Low  \\\n",
       "Date                                                                           \n",
       "2020-01-01  2020-01-01  7200.17431640625  7254.33056640625   7174.9443359375   \n",
       "2020-01-02  2020-01-02  6985.47021484375   7212.1552734375  6935.27001953125   \n",
       "2020-01-03  2020-01-03  7344.88427734375  7413.71533203125     6914.99609375   \n",
       "2020-01-04  2020-01-04  7410.65673828125   7427.3857421875  7309.51416015625   \n",
       "2020-01-05  2020-01-05   7411.3173828125   7544.4970703125  7400.53564453125   \n",
       "\n",
       "                        Open       Volume  \n",
       "Date                                       \n",
       "2020-01-01  7194.89208984375  18565664997  \n",
       "2020-01-02  7202.55126953125  20802083465  \n",
       "2020-01-03   6984.4287109375  28111481032  \n",
       "2020-01-04  7345.37548828125  18444271275  \n",
       "2020-01-05  7410.45166015625  19725074095  "
      ]
     },
     "execution_count": 60,
     "metadata": {},
     "output_type": "execute_result"
    }
   ],
   "source": [
    "df.head()"
   ]
  },
  {
   "cell_type": "code",
   "execution_count": 61,
   "id": "49ff312d",
   "metadata": {},
   "outputs": [
    {
     "name": "stdout",
     "output_type": "stream",
     "text": [
      "<class 'pandas.core.frame.DataFrame'>\n",
      "Index: 1827 entries, 2020-01-01 to 2024-12-31\n",
      "Data columns (total 6 columns):\n",
      " #   Column  Non-Null Count  Dtype \n",
      "---  ------  --------------  ----- \n",
      " 0   Date    1827 non-null   object\n",
      " 1   Close   1827 non-null   object\n",
      " 2   High    1827 non-null   object\n",
      " 3   Low     1827 non-null   object\n",
      " 4   Open    1827 non-null   object\n",
      " 5   Volume  1827 non-null   object\n",
      "dtypes: object(6)\n",
      "memory usage: 99.9+ KB\n"
     ]
    }
   ],
   "source": [
    "df.info()"
   ]
  },
  {
   "cell_type": "code",
   "execution_count": 62,
   "id": "5cd03411",
   "metadata": {},
   "outputs": [],
   "source": [
    "df[['Close','Open','Low','High','Volume']] = df[['Close','Open','Low','High','Volume']].astype('float')"
   ]
  },
  {
   "cell_type": "code",
   "execution_count": 65,
   "id": "5711d654",
   "metadata": {},
   "outputs": [],
   "source": [
    "df['Daily Return'] = df['Close'].pct_change() #percentage change "
   ]
  },
  {
   "cell_type": "code",
   "execution_count": 66,
   "id": "ed57d378",
   "metadata": {},
   "outputs": [
    {
     "data": {
      "text/html": [
       "<div>\n",
       "<style scoped>\n",
       "    .dataframe tbody tr th:only-of-type {\n",
       "        vertical-align: middle;\n",
       "    }\n",
       "\n",
       "    .dataframe tbody tr th {\n",
       "        vertical-align: top;\n",
       "    }\n",
       "\n",
       "    .dataframe thead th {\n",
       "        text-align: right;\n",
       "    }\n",
       "</style>\n",
       "<table border=\"1\" class=\"dataframe\">\n",
       "  <thead>\n",
       "    <tr style=\"text-align: right;\">\n",
       "      <th></th>\n",
       "      <th>Date</th>\n",
       "      <th>Close</th>\n",
       "      <th>High</th>\n",
       "      <th>Low</th>\n",
       "      <th>Open</th>\n",
       "      <th>Volume</th>\n",
       "      <th>Daily Return</th>\n",
       "    </tr>\n",
       "    <tr>\n",
       "      <th>Date</th>\n",
       "      <th></th>\n",
       "      <th></th>\n",
       "      <th></th>\n",
       "      <th></th>\n",
       "      <th></th>\n",
       "      <th></th>\n",
       "      <th></th>\n",
       "    </tr>\n",
       "  </thead>\n",
       "  <tbody>\n",
       "    <tr>\n",
       "      <th>2020-01-01</th>\n",
       "      <td>2020-01-01</td>\n",
       "      <td>7200.174316</td>\n",
       "      <td>7254.330566</td>\n",
       "      <td>7174.944336</td>\n",
       "      <td>7194.892090</td>\n",
       "      <td>1.856566e+10</td>\n",
       "      <td>NaN</td>\n",
       "    </tr>\n",
       "    <tr>\n",
       "      <th>2020-01-02</th>\n",
       "      <td>2020-01-02</td>\n",
       "      <td>6985.470215</td>\n",
       "      <td>7212.155273</td>\n",
       "      <td>6935.270020</td>\n",
       "      <td>7202.551270</td>\n",
       "      <td>2.080208e+10</td>\n",
       "      <td>-0.029819</td>\n",
       "    </tr>\n",
       "    <tr>\n",
       "      <th>2020-01-03</th>\n",
       "      <td>2020-01-03</td>\n",
       "      <td>7344.884277</td>\n",
       "      <td>7413.715332</td>\n",
       "      <td>6914.996094</td>\n",
       "      <td>6984.428711</td>\n",
       "      <td>2.811148e+10</td>\n",
       "      <td>0.051452</td>\n",
       "    </tr>\n",
       "    <tr>\n",
       "      <th>2020-01-04</th>\n",
       "      <td>2020-01-04</td>\n",
       "      <td>7410.656738</td>\n",
       "      <td>7427.385742</td>\n",
       "      <td>7309.514160</td>\n",
       "      <td>7345.375488</td>\n",
       "      <td>1.844427e+10</td>\n",
       "      <td>0.008955</td>\n",
       "    </tr>\n",
       "    <tr>\n",
       "      <th>2020-01-05</th>\n",
       "      <td>2020-01-05</td>\n",
       "      <td>7411.317383</td>\n",
       "      <td>7544.497070</td>\n",
       "      <td>7400.535645</td>\n",
       "      <td>7410.451660</td>\n",
       "      <td>1.972507e+10</td>\n",
       "      <td>0.000089</td>\n",
       "    </tr>\n",
       "  </tbody>\n",
       "</table>\n",
       "</div>"
      ],
      "text/plain": [
       "                  Date        Close         High          Low         Open  \\\n",
       "Date                                                                         \n",
       "2020-01-01  2020-01-01  7200.174316  7254.330566  7174.944336  7194.892090   \n",
       "2020-01-02  2020-01-02  6985.470215  7212.155273  6935.270020  7202.551270   \n",
       "2020-01-03  2020-01-03  7344.884277  7413.715332  6914.996094  6984.428711   \n",
       "2020-01-04  2020-01-04  7410.656738  7427.385742  7309.514160  7345.375488   \n",
       "2020-01-05  2020-01-05  7411.317383  7544.497070  7400.535645  7410.451660   \n",
       "\n",
       "                  Volume  Daily Return  \n",
       "Date                                    \n",
       "2020-01-01  1.856566e+10           NaN  \n",
       "2020-01-02  2.080208e+10     -0.029819  \n",
       "2020-01-03  2.811148e+10      0.051452  \n",
       "2020-01-04  1.844427e+10      0.008955  \n",
       "2020-01-05  1.972507e+10      0.000089  "
      ]
     },
     "execution_count": 66,
     "metadata": {},
     "output_type": "execute_result"
    }
   ],
   "source": [
    "df.head()"
   ]
  },
  {
   "cell_type": "code",
   "execution_count": 67,
   "id": "2af74886",
   "metadata": {},
   "outputs": [
    {
     "data": {
      "image/png": "[encoded data removed]",
      "text/plain": [
       "<Figure size 1200x600 with 1 Axes>"
      ]
     },
     "metadata": {},
     "output_type": "display_data"
    }
   ],
   "source": [
    "plt.figure(figsize=(12, 6))\n",
    "sns.histplot(df['Daily Return'].dropna(), kde=True, bins=50, color='blue')\n",
    "plt.title('Distribution of Daily Returns', fontsize=16)\n",
    "plt.xlabel('Daily Return', fontsize=14)\n",
    "plt.ylabel('Frequency', fontsize=14)\n",
    "plt.show()"
   ]
  },
  {
   "cell_type": "code",
   "execution_count": null,
   "id": "6b5f0b27",
   "metadata": {},
   "outputs": [],
   "source": []
  }
 ],
 "metadata": {
  "kernelspec": {
   "display_name": "Python 3 (ipykernel)",
   "language": "python",
   "name": "python3"
  },
  "language_info": {
   "codemirror_mode": {
    "name": "ipython",
    "version": 3
   },
   "file_extension": ".py",
   "mimetype": "text/x-python",
   "name": "python",
   "nbconvert_exporter": "python",
   "pygments_lexer": "ipython3",
   "version": "3.9.13"
  }
 },
 "nbformat": 4,
 "nbformat_minor": 5
}
